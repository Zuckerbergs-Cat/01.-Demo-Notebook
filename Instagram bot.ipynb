{
 "cells": [
  {
   "cell_type": "code",
   "execution_count": 10,
   "id": "durable-indiana",
   "metadata": {},
   "outputs": [],
   "source": [
    "#Open browser window\n",
    "from selenium import webdriver\n",
    "from selenium.webdriver.common.keys import Keys\n",
    "from selenium.webdriver.support.ui import WebDriverWait\n",
    "from selenium.webdriver.support import expected_conditions as EC\n",
    "from selenium.webdriver.common.by import By\n",
    "from selenium.common.exceptions import TimeoutException\n",
    "import pandas as pd\n",
    "import undetected_chromedriver.v2 as uc\n",
    "#undetected chrome-driver\n",
    "browser = uc.Chrome()\n",
    "website = \"https://www.instagram.com/\"\n",
    "\n",
    "waitTime = 10\n",
    "browser.get(website)"
   ]
  },
  {
   "cell_type": "code",
   "execution_count": 12,
   "id": "organizational-instrumentation",
   "metadata": {},
   "outputs": [],
   "source": [
    "username = \"murage.kibicho@gmail.com\"\n",
    "password = \"Teller2017??\"\n",
    "#Login\n",
    "usernameInput = WebDriverWait(browser, 20).until(EC.presence_of_element_located((By.XPATH, '//*[@id=\"loginForm\"]/div/div[1]/div/label/input')))\n",
    "passwordInput = WebDriverWait(browser, 20).until(EC.presence_of_element_located((By.XPATH, '//*[@id=\"loginForm\"]/div/div[2]/div/label/input')))\n",
    "loginButton = WebDriverWait(browser, 20).until(EC.presence_of_element_located((By.XPATH, '//*[@id=\"loginForm\"]/div[1]/div[3]/button/div')))\n",
    "\n",
    "usernameInput.send_keys(username)\n",
    "#add wait \n",
    "browser.implicitly_wait(10)\n",
    "\n",
    "passwordInput.send_keys(password)\n",
    "loginButton.click()\n",
    "\n"
   ]
  },
  {
   "cell_type": "code",
   "execution_count": 6,
   "id": "ethical-visiting",
   "metadata": {},
   "outputs": [
    {
     "ename": "TimeoutException",
     "evalue": "Message: \nStacktrace:\n#0 0x5628579a5ad3 <unknown>\n#1 0x562857705568 <unknown>\n#2 0x56285773bc46 <unknown>\n#3 0x56285773be01 <unknown>\n#4 0x56285776ea64 <unknown>\n#5 0x56285775961d <unknown>\n#6 0x56285776c824 <unknown>\n#7 0x5628577594e3 <unknown>\n#8 0x56285772ed1a <unknown>\n#9 0x56285772fe75 <unknown>\n#10 0x5628579d3efd <unknown>\n#11 0x5628579ed19b <unknown>\n#12 0x5628579d5c65 <unknown>\n#13 0x5628579edec8 <unknown>\n#14 0x5628579c9360 <unknown>\n#15 0x562857a09a68 <unknown>\n#16 0x562857a09be8 <unknown>\n#17 0x562857a237fd <unknown>\n#18 0x7fbe69d8d609 <unknown>\n",
     "output_type": "error",
     "traceback": [
      "\u001b[0;31m---------------------------------------------------------------------------\u001b[0m",
      "\u001b[0;31mTimeoutException\u001b[0m                          Traceback (most recent call last)",
      "\u001b[0;32m<ipython-input-6-ff0438855be5>\u001b[0m in \u001b[0;36m<module>\u001b[0;34m\u001b[0m\n\u001b[1;32m      5\u001b[0m \u001b[0mbrowser\u001b[0m\u001b[0;34m.\u001b[0m\u001b[0mimplicitly_wait\u001b[0m\u001b[0;34m(\u001b[0m\u001b[0;36m10\u001b[0m\u001b[0;34m)\u001b[0m\u001b[0;34m\u001b[0m\u001b[0;34m\u001b[0m\u001b[0m\n\u001b[1;32m      6\u001b[0m \u001b[0;31m#Turn off notifications\u001b[0m\u001b[0;34m\u001b[0m\u001b[0;34m\u001b[0m\u001b[0;34m\u001b[0m\u001b[0m\n\u001b[0;32m----> 7\u001b[0;31m \u001b[0mnotNowButton\u001b[0m \u001b[0;34m=\u001b[0m \u001b[0mWebDriverWait\u001b[0m\u001b[0;34m(\u001b[0m\u001b[0mbrowser\u001b[0m\u001b[0;34m,\u001b[0m \u001b[0;36m20\u001b[0m\u001b[0;34m)\u001b[0m\u001b[0;34m.\u001b[0m\u001b[0muntil\u001b[0m\u001b[0;34m(\u001b[0m\u001b[0mEC\u001b[0m\u001b[0;34m.\u001b[0m\u001b[0mpresence_of_element_located\u001b[0m\u001b[0;34m(\u001b[0m\u001b[0;34m(\u001b[0m\u001b[0mBy\u001b[0m\u001b[0;34m.\u001b[0m\u001b[0mXPATH\u001b[0m\u001b[0;34m,\u001b[0m \u001b[0;34m'/html/body/div[6]/div/div/div/div[3]/button[2]'\u001b[0m\u001b[0;34m)\u001b[0m\u001b[0;34m)\u001b[0m\u001b[0;34m)\u001b[0m\u001b[0;34m\u001b[0m\u001b[0;34m\u001b[0m\u001b[0m\n\u001b[0m\u001b[1;32m      8\u001b[0m \u001b[0mnotNowButton\u001b[0m\u001b[0;34m.\u001b[0m\u001b[0mclick\u001b[0m\u001b[0;34m(\u001b[0m\u001b[0;34m)\u001b[0m\u001b[0;34m\u001b[0m\u001b[0;34m\u001b[0m\u001b[0m\n",
      "\u001b[0;32m~/.local/lib/python3.8/site-packages/selenium/webdriver/support/wait.py\u001b[0m in \u001b[0;36muntil\u001b[0;34m(self, method, message)\u001b[0m\n\u001b[1;32m     87\u001b[0m             \u001b[0;32mif\u001b[0m \u001b[0mtime\u001b[0m\u001b[0;34m.\u001b[0m\u001b[0mtime\u001b[0m\u001b[0;34m(\u001b[0m\u001b[0;34m)\u001b[0m \u001b[0;34m>\u001b[0m \u001b[0mend_time\u001b[0m\u001b[0;34m:\u001b[0m\u001b[0;34m\u001b[0m\u001b[0;34m\u001b[0m\u001b[0m\n\u001b[1;32m     88\u001b[0m                 \u001b[0;32mbreak\u001b[0m\u001b[0;34m\u001b[0m\u001b[0;34m\u001b[0m\u001b[0m\n\u001b[0;32m---> 89\u001b[0;31m         \u001b[0;32mraise\u001b[0m \u001b[0mTimeoutException\u001b[0m\u001b[0;34m(\u001b[0m\u001b[0mmessage\u001b[0m\u001b[0;34m,\u001b[0m \u001b[0mscreen\u001b[0m\u001b[0;34m,\u001b[0m \u001b[0mstacktrace\u001b[0m\u001b[0;34m)\u001b[0m\u001b[0;34m\u001b[0m\u001b[0;34m\u001b[0m\u001b[0m\n\u001b[0m\u001b[1;32m     90\u001b[0m \u001b[0;34m\u001b[0m\u001b[0m\n\u001b[1;32m     91\u001b[0m     \u001b[0;32mdef\u001b[0m \u001b[0muntil_not\u001b[0m\u001b[0;34m(\u001b[0m\u001b[0mself\u001b[0m\u001b[0;34m,\u001b[0m \u001b[0mmethod\u001b[0m\u001b[0;34m,\u001b[0m \u001b[0mmessage\u001b[0m\u001b[0;34m=\u001b[0m\u001b[0;34m''\u001b[0m\u001b[0;34m)\u001b[0m\u001b[0;34m:\u001b[0m\u001b[0;34m\u001b[0m\u001b[0;34m\u001b[0m\u001b[0m\n",
      "\u001b[0;31mTimeoutException\u001b[0m: Message: \nStacktrace:\n#0 0x5628579a5ad3 <unknown>\n#1 0x562857705568 <unknown>\n#2 0x56285773bc46 <unknown>\n#3 0x56285773be01 <unknown>\n#4 0x56285776ea64 <unknown>\n#5 0x56285775961d <unknown>\n#6 0x56285776c824 <unknown>\n#7 0x5628577594e3 <unknown>\n#8 0x56285772ed1a <unknown>\n#9 0x56285772fe75 <unknown>\n#10 0x5628579d3efd <unknown>\n#11 0x5628579ed19b <unknown>\n#12 0x5628579d5c65 <unknown>\n#13 0x5628579edec8 <unknown>\n#14 0x5628579c9360 <unknown>\n#15 0x562857a09a68 <unknown>\n#16 0x562857a09be8 <unknown>\n#17 0x562857a237fd <unknown>\n#18 0x7fbe69d8d609 <unknown>\n"
     ]
    }
   ],
   "source": [
    "#Don't save info\n",
    "notNowButton = WebDriverWait(browser, 20).until(EC.presence_of_element_located((By.XPATH, '//*[@id=\"react-root\"]/section/main/div/div/div/div/button')))\n",
    "notNowButton.click()\n",
    "#add wait \n",
    "browser.implicitly_wait(10)\n",
    "#Turn off notifications\n",
    "notNowButton = WebDriverWait(browser, 20).until(EC.presence_of_element_located((By.XPATH, '/html/body/div[6]/div/div/div/div[3]/button[2]')))\n",
    "notNowButton.click()\n"
   ]
  },
  {
   "cell_type": "code",
   "execution_count": 13,
   "id": "likely-neighborhood",
   "metadata": {},
   "outputs": [],
   "source": [
    "#Go to Murage page\n",
    "startingPage = \"https://www.instagram.com/murage_kibicho/\"\n",
    "browser.get(startingPage)\n",
    "browser.implicitly_wait(10)\n",
    "#Open followers list\n",
    "followerTab = WebDriverWait(browser, 20).until(EC.presence_of_element_located((By.XPATH,\"//*[contains(text(), ' followers')]\")))\n",
    "browser.implicitly_wait(10)\n",
    "followerTab.click()\n",
    "#Have to wait here\n"
   ]
  },
  {
   "cell_type": "code",
   "execution_count": 16,
   "id": "ongoing-involvement",
   "metadata": {
    "scrolled": true
   },
   "outputs": [
    {
     "name": "stdout",
     "output_type": "stream",
     "text": [
      "div\n"
     ]
    },
    {
     "name": "stderr",
     "output_type": "stream",
     "text": [
      "<ipython-input-16-2d157aeda33d>:2: DeprecationWarning: find_elements_by_tag_name is deprecated. Please use find_elements(by=By.TAG_NAME, value=name) instead\n",
      "  followerBodyChoices = browser.find_elements_by_tag_name(\"ul\")\n"
     ]
    }
   ],
   "source": [
    "#https://stackoverflow.com/questions/38041974/selenium-scroll-inside-of-popup-div\n",
    "followerBodyChoices = browser.find_elements_by_tag_name(\"ul\")\n",
    "if(followerBodyChoices):\n",
    "    #print(\"Found: \" + str(len(followerBodyChoices)))\n",
    "    correctChoice = followerBodyChoices[len(followerBodyChoices) - 1]\n",
    "    if(correctChoice):\n",
    "        scrollableContainer = correctChoice.find_element_by_xpath(\"./..\")\n",
    "        followersContainer = correctChoice.find_element_by_xpath(\"./*\")\n",
    "        #print(scrollableContainer.tag_name)\n",
    "        print(followersContainer.tag_name)\n",
    "        browser.execute_script(\"arguments[0].scrollTop = arguments[0].scrollHeight\", scrollableContainer)       \n",
    "    else:\n",
    "        print(\"Not found 2nd if\")\n",
    "else:\n",
    "    print(\"Not Found\")"
   ]
  },
  {
   "cell_type": "code",
   "execution_count": 104,
   "id": "southwest-recording",
   "metadata": {},
   "outputs": [
    {
     "name": "stdout",
     "output_type": "stream",
     "text": [
      "0\n"
     ]
    }
   ],
   "source": [
    "followerList = followersContainer.find_elements_by_tag_name(\"li\")\n",
    "print(len(followerList))\n",
    "for eachFollower in followerList:\n",
    "    allText = eachFollower.get_attribute('innerText')\n",
    "    #print(allText)\n"
   ]
  },
  {
   "cell_type": "code",
   "execution_count": null,
   "id": "committed-asbestos",
   "metadata": {},
   "outputs": [],
   "source": []
  }
 ],
 "metadata": {
  "kernelspec": {
   "display_name": "Python 3",
   "language": "python",
   "name": "python3"
  },
  "language_info": {
   "codemirror_mode": {
    "name": "ipython",
    "version": 3
   },
   "file_extension": ".py",
   "mimetype": "text/x-python",
   "name": "python",
   "nbconvert_exporter": "python",
   "pygments_lexer": "ipython3",
   "version": "3.8.10"
  }
 },
 "nbformat": 4,
 "nbformat_minor": 5
}
