{
 "cells": [
  {
   "cell_type": "code",
   "execution_count": 10,
   "id": "durable-indiana",
   "metadata": {},
   "outputs": [],
   "source": [
    "#Open browser window\n",
    "from selenium import webdriver\n",
    "from selenium.webdriver.common.keys import Keys\n",
    "from selenium.webdriver.support.ui import WebDriverWait\n",
    "from selenium.webdriver.support import expected_conditions as EC\n",
    "from selenium.webdriver.common.by import By\n",
    "from selenium.common.exceptions import TimeoutException\n",
    "import pandas as pd\n",
    "import undetected_chromedriver.v2 as uc\n",
    "#undetected chrome-driver\n",
    "browser = uc.Chrome()\n",
    "website = \"https://www.instagram.com/\"\n",
    "\n",
    "waitTime = 10\n",
    "browser.get(website)"
   ]
  },
  {
   "cell_type": "code",
   "execution_count": 12,
   "id": "organizational-instrumentation",
   "metadata": {},
   "outputs": [],
   "source": [
    "username = \"Enter your username here\"\n",
    "password = \"Enter your password\"\n",
    "#Login\n",
    "usernameInput = WebDriverWait(browser, 20).until(EC.presence_of_element_located((By.XPATH, '//*[@id=\"loginForm\"]/div/div[1]/div/label/input')))\n",
    "passwordInput = WebDriverWait(browser, 20).until(EC.presence_of_element_located((By.XPATH, '//*[@id=\"loginForm\"]/div/div[2]/div/label/input')))\n",
    "loginButton = WebDriverWait(browser, 20).until(EC.presence_of_element_located((By.XPATH, '//*[@id=\"loginForm\"]/div[1]/div[3]/button/div')))\n",
    "\n",
    "usernameInput.send_keys(username)\n",
    "#add wait \n",
    "browser.implicitly_wait(10)\n",
    "\n",
    "passwordInput.send_keys(password)\n",
    "loginButton.click()\n",
    "\n"
   ]
  },
  {
   "cell_type": "code",
   "execution_count": 13,
   "id": "likely-neighborhood",
   "metadata": {},
   "outputs": [],
   "source": [
    "#Go to Murage page\n",
    "startingPage = \"https://www.instagram.com/murage_kibicho/\"\n",
    "browser.get(startingPage)\n",
    "browser.implicitly_wait(10)\n",
    "#Open followers list\n",
    "followerTab = WebDriverWait(browser, 20).until(EC.presence_of_element_located((By.XPATH,\"//*[contains(text(), ' followers')]\")))\n",
    "browser.implicitly_wait(10)\n",
    "followerTab.click()\n",
    "#Have to wait here\n"
   ]
  },
  {
   "cell_type": "code",
   "execution_count": 104,
   "id": "southwest-recording",
   "metadata": {},
   "outputs": [
    {
     "name": "stdout",
     "output_type": "stream",
     "text": [
      "0\n"
     ]
    }
   ],
   "source": [
    "#Print the list of Loaded followers\n",
    "followerList = followersContainer.find_elements_by_tag_name(\"li\")\n",
    "print(len(followerList))\n",
    "for eachFollower in followerList:\n",
    "    allText = eachFollower.get_attribute('innerText')\n",
    "    #print(allText)\n"
   ]
  },
  {
   "cell_type": "code",
   "execution_count": null,
   "id": "committed-asbestos",
   "metadata": {},
   "outputs": [],
   "source": []
  }
 ],
 "metadata": {
  "kernelspec": {
   "display_name": "Python 3",
   "language": "python",
   "name": "python3"
  },
  "language_info": {
   "codemirror_mode": {
    "name": "ipython",
    "version": 3
   },
   "file_extension": ".py",
   "mimetype": "text/x-python",
   "name": "python",
   "nbconvert_exporter": "python",
   "pygments_lexer": "ipython3",
   "version": "3.8.10"
  }
 },
 "nbformat": 4,
 "nbformat_minor": 5
}
